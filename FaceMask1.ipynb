{
  "nbformat": 4,
  "nbformat_minor": 0,
  "metadata": {
    "colab": {
      "name": "FaceMask1.ipynb",
      "provenance": [],
      "collapsed_sections": [],
      "authorship_tag": "ABX9TyPmGdwGhyU6VRtTRYVewJpj",
      "include_colab_link": true
    },
    "kernelspec": {
      "name": "python3",
      "display_name": "Python 3"
    },
    "accelerator": "GPU"
  },
  "cells": [
    {
      "cell_type": "markdown",
      "metadata": {
        "id": "view-in-github",
        "colab_type": "text"
      },
      "source": [
        "<a href=\"https://colab.research.google.com/github/dummy26/face-mask-detector/blob/master/FaceMask1.ipynb\" target=\"_parent\"><img src=\"https://colab.research.google.com/assets/colab-badge.svg\" alt=\"Open In Colab\"/></a>"
      ]
    },
    {
      "cell_type": "code",
      "metadata": {
        "id": "0a2FTOoDutg-",
        "colab_type": "code",
        "colab": {}
      },
      "source": [
        "#Upload kaggle json file downloaded from kaggle here\n",
        "from google.colab import files\n",
        "files.upload()\n",
        "! mkdir ~/.kaggle\n",
        "! cp kaggle.json ~/.kaggle/\n",
        "! chmod 600 ~/.kaggle/kaggle.json\n",
        "\n",
        "!kaggle datasets download -d andrewmvd/face-mask-detection\n",
        "! unzip face-mask-detection.zip"
      ],
      "execution_count": null,
      "outputs": []
    },
    {
      "cell_type": "code",
      "metadata": {
        "id": "luHi2EbEv-R1",
        "colab_type": "code",
        "colab": {}
      },
      "source": [
        "!pip install tf-nightly\n",
        "import matplotlib.pyplot as plt\n",
        "import numpy as np\n",
        "import os\n",
        "import shutil\n",
        "from bs4 import BeautifulSoup\n",
        "import random\n",
        "import tensorflow as tf\n",
        "from tensorflow import keras\n",
        "from tensorflow.keras import layers"
      ],
      "execution_count": null,
      "outputs": []
    },
    {
      "cell_type": "code",
      "metadata": {
        "id": "3WtUxwdyzPXB",
        "colab_type": "code",
        "colab": {}
      },
      "source": [
        "images_path = 'images'\n",
        "labels_path = 'annotations'"
      ],
      "execution_count": null,
      "outputs": []
    },
    {
      "cell_type": "code",
      "metadata": {
        "id": "j8dvxjDA1Rto",
        "colab_type": "code",
        "colab": {}
      },
      "source": [
        "#Considering mask worn incorrectly as with_mask\n",
        "# 0- mask\n",
        "# 1 - no mask\n",
        "def generate_label(obj):\n",
        "    if obj.find('name').text == \"with_mask\" or obj.find('name').text == 'mask_weared_incorrect':\n",
        "        return 0\n",
        "    return 1"
      ],
      "execution_count": null,
      "outputs": []
    },
    {
      "cell_type": "code",
      "metadata": {
        "id": "ZElpqUV0zrSH",
        "colab_type": "code",
        "colab": {}
      },
      "source": [
        "labels = []\n",
        "for label_path in sorted(os.listdir(labels_path)):\n",
        "    xml_file = os.path.join(labels_path, label_path)\n",
        "    with open(xml_file) as f:\n",
        "        data = f.read()\n",
        "        soup = BeautifulSoup(data, 'xml')\n",
        "        obj = soup.find('object')\n",
        "        labels.append(generate_label(obj))"
      ],
      "execution_count": null,
      "outputs": []
    },
    {
      "cell_type": "code",
      "metadata": {
        "id": "SjzoF4aaE7QR",
        "colab_type": "code",
        "colab": {}
      },
      "source": [
        "unique_labels, counts = np.unique(labels, return_counts=True)\n",
        "print(unique_labels, counts)"
      ],
      "execution_count": null,
      "outputs": []
    },
    {
      "cell_type": "code",
      "metadata": {
        "id": "pzLyg7NPDpcm",
        "colab_type": "code",
        "colab": {}
      },
      "source": [
        "images = [plt.imread(os.path.join(images_path, img_path)) for img_path in sorted(os.listdir(images_path))]\n",
        "nrows, ncols = 5, 5\n",
        "figsize = [30, 30]    \n",
        "\n",
        "fig, ax = plt.subplots(nrows=nrows, ncols=ncols, figsize=figsize)\n",
        "for i, axi in enumerate(ax.flat):\n",
        "    random_idx = random.randint(0, len(images)-1)\n",
        "    img = images[random_idx]\n",
        "    axi.set_title(labels[random_idx])\n",
        "    axi.imshow(img)\n",
        "    axi.axis('off')\n",
        "\n",
        "plt.show()"
      ],
      "execution_count": null,
      "outputs": []
    },
    {
      "cell_type": "code",
      "metadata": {
        "id": "cy9NJOuanm-j",
        "colab_type": "code",
        "colab": {}
      },
      "source": [
        "# w = []\n",
        "# h = []\n",
        "# for img in images:\n",
        "#     w.append(img.shape[0])\n",
        "#     h.append(img.shape[1])\n",
        "\n",
        "# print(min(w), min(h), max(w), max(h))"
      ],
      "execution_count": null,
      "outputs": []
    },
    {
      "cell_type": "code",
      "metadata": {
        "id": "iXyKh5S8xPqC",
        "colab_type": "code",
        "colab": {}
      },
      "source": [
        "!mkdir FaceMaskDataset\n",
        "%cd FaceMaskDataset\n",
        "!mkdir Mask\n",
        "!mkdir NoMask\n",
        "%cd /content"
      ],
      "execution_count": null,
      "outputs": []
    },
    {
      "cell_type": "code",
      "metadata": {
        "id": "-LKPJIsqxPtn",
        "colab_type": "code",
        "colab": {}
      },
      "source": [
        "mask_path = 'FaceMaskDataset/Mask'\n",
        "no_mask_path = 'FaceMaskDataset/NoMask'"
      ],
      "execution_count": null,
      "outputs": []
    },
    {
      "cell_type": "code",
      "metadata": {
        "id": "-doC5LdQxPwX",
        "colab_type": "code",
        "colab": {}
      },
      "source": [
        "IMG_PATHS = sorted(os.listdir(images_path))\n",
        "for i in range(len(labels)):\n",
        "    img = os.path.join(images_path, IMG_PATHS[i])\n",
        "    if labels[i] == 0:\n",
        "        shutil.copy(img, mask_path)\n",
        "    elif labels[i] == 1:\n",
        "        shutil.copy(img, no_mask_path)"
      ],
      "execution_count": null,
      "outputs": []
    },
    {
      "cell_type": "code",
      "metadata": {
        "id": "2Xn6gn0F0HDR",
        "colab_type": "code",
        "colab": {}
      },
      "source": [
        "# masks = sorted(os.listdir(mask_path))\n",
        "# nrows, ncols = 5, 5\n",
        "# figsize = [30, 30]    \n",
        "\n",
        "# fig, ax = plt.subplots(nrows=nrows, ncols=ncols, figsize=figsize)\n",
        "# for i, axi in enumerate(ax.flat):\n",
        "#     random_idx = random.randint(0, len(masks)-1)\n",
        "#     img = plt.imread(os.path.join(mask_path, masks[random_idx]))\n",
        "#     axi.set_title(labels[random_idx])\n",
        "#     axi.imshow(img)\n",
        "#     axi.axis('off')\n",
        "\n",
        "# plt.show()"
      ],
      "execution_count": null,
      "outputs": []
    },
    {
      "cell_type": "code",
      "metadata": {
        "id": "TsmxozQmv291",
        "colab_type": "code",
        "colab": {}
      },
      "source": [
        "# 0 is mask and 1 is no mask \n",
        "image_size = (180, 180)\n",
        "batch_size = 32\n",
        "\n",
        "train_ds = tf.keras.preprocessing.image_dataset_from_directory(\n",
        "    \"FaceMaskDataset\",\n",
        "    validation_split=0.1,\n",
        "    subset=\"training\",\n",
        "    seed=1337,\n",
        "    image_size=image_size,\n",
        "    batch_size=batch_size,\n",
        "    label_mode='binary',\n",
        ")\n",
        "val_ds = tf.keras.preprocessing.image_dataset_from_directory(\n",
        "    \"FaceMaskDataset\",\n",
        "    validation_split=0.1,\n",
        "    subset=\"validation\",\n",
        "    seed=1337,\n",
        "    image_size=image_size,\n",
        "    batch_size=batch_size,\n",
        "    label_mode='binary',\n",
        ")\n",
        "\n",
        "train_ds = train_ds.prefetch(buffer_size=32)\n",
        "val_ds = val_ds.prefetch(buffer_size=32)"
      ],
      "execution_count": null,
      "outputs": []
    },
    {
      "cell_type": "code",
      "metadata": {
        "id": "e-25jY01wavX",
        "colab_type": "code",
        "colab": {}
      },
      "source": [
        "# plt.figure(figsize=(10, 10))\n",
        "# for images, labels in train_ds.take(1):\n",
        "#     for i in range(9):\n",
        "#         ax = plt.subplot(3, 3, i + 1)\n",
        "#         plt.imshow(images[i].numpy().astype(\"uint8\"))\n",
        "#         plt.title(int(labels[i]))\n",
        "#         plt.axis(\"off\")"
      ],
      "execution_count": null,
      "outputs": []
    },
    {
      "cell_type": "code",
      "metadata": {
        "id": "Yufebi_W1zPu",
        "colab_type": "code",
        "colab": {}
      },
      "source": [
        "data_augmentation = keras.Sequential(\n",
        "    [\n",
        "        layers.experimental.preprocessing.RandomFlip(\"horizontal\"),\n",
        "        layers.experimental.preprocessing.RandomRotation(0.1),\n",
        "    ]\n",
        ")\n",
        "\n",
        "# plt.figure(figsize=(10, 10))\n",
        "# for images, _ in train_ds.take(1):\n",
        "#     augmented_images = data_augmentation(images)\n",
        "#     for i in range(9):\n",
        "#         ax = plt.subplot(3, 3, i + 1)\n",
        "#         plt.imshow(augmented_images[0].numpy().astype(\"uint8\"))\n",
        "#         plt.axis(\"off\")"
      ],
      "execution_count": null,
      "outputs": []
    },
    {
      "cell_type": "code",
      "metadata": {
        "id": "IuqRXmoY26Rp",
        "colab_type": "code",
        "colab": {}
      },
      "source": [
        "def make_model(input_shape, num_classes):\n",
        "    inputs = keras.Input(shape=input_shape)\n",
        "    # Image augmentation block\n",
        "    x = data_augmentation(inputs)\n",
        "\n",
        "    # Entry block\n",
        "    x = layers.experimental.preprocessing.Rescaling(1.0 / 255)(x)\n",
        "    x = layers.Conv2D(32, 3, strides=2, padding=\"same\")(x)\n",
        "    x = layers.BatchNormalization()(x)\n",
        "    x = layers.Activation(\"relu\")(x)\n",
        "\n",
        "    x = layers.Conv2D(64, 3, padding=\"same\")(x)\n",
        "    x = layers.BatchNormalization()(x)\n",
        "    x = layers.Activation(\"relu\")(x)\n",
        "\n",
        "    previous_block_activation = x  # Set aside residual\n",
        "\n",
        "    for size in [128, 256, 512, 728]:\n",
        "        x = layers.Activation(\"relu\")(x)\n",
        "        x = layers.SeparableConv2D(size, 3, padding=\"same\")(x)\n",
        "        x = layers.BatchNormalization()(x)\n",
        "\n",
        "        x = layers.Activation(\"relu\")(x)\n",
        "        x = layers.SeparableConv2D(size, 3, padding=\"same\")(x)\n",
        "        x = layers.BatchNormalization()(x)\n",
        "\n",
        "        x = layers.MaxPooling2D(3, strides=2, padding=\"same\")(x)\n",
        "\n",
        "        # Project residual\n",
        "        residual = layers.Conv2D(size, 1, strides=2, padding=\"same\")(\n",
        "            previous_block_activation\n",
        "        )\n",
        "        x = layers.add([x, residual])  # Add back residual\n",
        "        previous_block_activation = x  # Set aside next residual\n",
        "\n",
        "    x = layers.SeparableConv2D(1024, 3, padding=\"same\")(x)\n",
        "    x = layers.BatchNormalization()(x)\n",
        "    x = layers.Activation(\"relu\")(x)\n",
        "\n",
        "    x = layers.GlobalAveragePooling2D()(x)\n",
        "    if num_classes == 2:\n",
        "        activation = \"sigmoid\"\n",
        "        units = 1\n",
        "    else:\n",
        "        activation = \"softmax\"\n",
        "        units = num_classes\n",
        "\n",
        "    x = layers.Dropout(0.5)(x)\n",
        "    outputs = layers.Dense(units, activation=activation)(x)\n",
        "    return keras.Model(inputs, outputs)\n",
        "\n",
        "\n",
        "model = make_model(input_shape=image_size + (3,), num_classes=2)\n",
        "# keras.utils.plot_model(model, show_shapes=True)"
      ],
      "execution_count": null,
      "outputs": []
    },
    {
      "cell_type": "code",
      "metadata": {
        "id": "nORdpXdw3kpv",
        "colab_type": "code",
        "colab": {}
      },
      "source": [
        "epochs = 10\n",
        "\n",
        "# callbacks = [\n",
        "#     keras.callbacks.ModelCheckpoint(\"save_at_{epoch}.h5\"),\n",
        "# ]\n",
        "model.compile(\n",
        "    optimizer=keras.optimizers.Adam(1e-3),\n",
        "    loss=\"binary_crossentropy\",\n",
        "    metrics=[\"accuracy\"],\n",
        ")\n",
        "model.fit(train_ds, epochs=epochs, validation_data=val_ds)"
      ],
      "execution_count": null,
      "outputs": []
    },
    {
      "cell_type": "code",
      "metadata": {
        "id": "q8tKpL633uEf",
        "colab_type": "code",
        "colab": {}
      },
      "source": [
        "path = \"images/maksssksksss812.png\"\n",
        "img = keras.preprocessing.image.load_img(path, target_size=image_size)\n",
        "img_array = keras.preprocessing.image.img_to_array(img)\n",
        "img_array = tf.expand_dims(img_array, 0)  # Create batch axis\n",
        "\n",
        "predictions = model.predict(img_array)\n",
        "score = predictions[0][0]\n",
        "percent_mask =  100 * (1-score)  #cuz 0 means mask\n",
        "print(f'{percent_mask:.3f}% mask')\n",
        "img = plt.imread(path)\n",
        "plt.imshow(img)\n",
        "plt.show()"
      ],
      "execution_count": null,
      "outputs": []
    },
    {
      "cell_type": "code",
      "metadata": {
        "id": "a_N7p3yJ6mDi",
        "colab_type": "code",
        "colab": {}
      },
      "source": [
        "from google.colab import drive\n",
        "drive.mount('/content/drive')"
      ],
      "execution_count": null,
      "outputs": []
    },
    {
      "cell_type": "code",
      "metadata": {
        "id": "U76lSx8HGdv8",
        "colab_type": "code",
        "colab": {}
      },
      "source": [
        "drive_path = '/content/drive/My Drive'\n",
        "%cd /content/drive/My\\ Drive\n",
        "!mkdir FaceMaskDataset\n",
        "%cd FaceMaskDataset\n",
        "!mkdir Mask\n",
        "!mkdir NoMask\n",
        "\n",
        "drive_mask_path = os.path.join(drive_path, mask_path)\n",
        "for f in os.listdir(mask_path):\n",
        "    shutil.copy(os.path.join(mask_path, f), drive_mask_path)\n",
        "\n",
        "\n",
        "drive_no_mask_path = os.path.join(drive_path, no_mask_path)\n",
        "for f in os.listdir(no_mask_path):\n",
        "    print(f)\n",
        "    shutil.copy(os.path.join(no_mask_path, f), drive_no_mask_path)\n",
        "\n",
        "\n",
        "%cd /content"
      ],
      "execution_count": null,
      "outputs": []
    }
  ]
}